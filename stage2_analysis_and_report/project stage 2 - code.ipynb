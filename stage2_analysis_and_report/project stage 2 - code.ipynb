{
 "cells": [
  {
   "cell_type": "code",
   "execution_count": 1,
   "metadata": {
    "_cell_guid": "b1076dfc-b9ad-4769-8c92-a6c4dae69d19",
    "_uuid": "8f2839f25d086af736a60e9eeb907d3b93b6e0e5"
   },
   "outputs": [
    {
     "name": "stdout",
     "output_type": "stream",
     "text": [
      "/kaggle/input/data.csv\n"
     ]
    }
   ],
   "source": [
    "import os\n",
    "for dirname, _, filenames in os.walk('/kaggle/input'):\n",
    "    for filename in filenames:\n",
    "        print(os.path.join(dirname, filename))"
   ]
  },
  {
   "cell_type": "code",
   "execution_count": 2,
   "metadata": {
    "_cell_guid": "79c7e3d0-c299-4dcb-8224-4455121ee9b0",
    "_uuid": "d629ff2d2480ee46fbb7e2d37f6b5fab8052498a"
   },
   "outputs": [],
   "source": [
    "import numpy as np\n",
    "import pandas as pd  \n",
    "import matplotlib.pyplot as plt\n",
    "from sklearn.model_selection import train_test_split, GridSearchCV\n",
    "from sklearn.tree import DecisionTreeClassifier, export_graphviz\n",
    "from sklearn.ensemble import AdaBoostClassifier, RandomForestClassifier\n",
    "from sklearn.neighbors import KNeighborsClassifier\n",
    "from sklearn.metrics import classification_report\n",
    "from scipy.stats import chi2"
   ]
  },
  {
   "cell_type": "code",
   "execution_count": 3,
   "metadata": {},
   "outputs": [
    {
     "data": {
      "text/plain": [
       "(10382, 112)"
      ]
     },
     "execution_count": 3,
     "metadata": {},
     "output_type": "execute_result"
    }
   ],
   "source": [
    "dataset = pd.read_csv('/kaggle/input/data.csv')\n",
    "dataset.shape"
   ]
  },
  {
   "cell_type": "code",
   "execution_count": 4,
   "metadata": {},
   "outputs": [
    {
     "data": {
      "text/plain": [
       "['installation_id',\n",
       " 'game_session',\n",
       " 'title',\n",
       " 'type',\n",
       " 'world',\n",
       " 'time_start',\n",
       " 'time_end']"
      ]
     },
     "execution_count": 4,
     "metadata": {},
     "output_type": "execute_result"
    }
   ],
   "source": [
    "numerical_col = dataset.describe().columns\n",
    "cols = []\n",
    "for col in dataset.columns:\n",
    "    if col not in numerical_col:\n",
    "        cols.append(col)\n",
    "cols"
   ]
  },
  {
   "cell_type": "code",
   "execution_count": 5,
   "metadata": {},
   "outputs": [],
   "source": [
    "DUMMYS = ['title', 'type', 'world']\n",
    "data = pd.get_dummies(dataset, columns=DUMMYS, drop_first=True)"
   ]
  },
  {
   "cell_type": "code",
   "execution_count": 6,
   "metadata": {},
   "outputs": [
    {
     "data": {
      "text/html": [
       "<div>\n",
       "<style scoped>\n",
       "    .dataframe tbody tr th:only-of-type {\n",
       "        vertical-align: middle;\n",
       "    }\n",
       "\n",
       "    .dataframe tbody tr th {\n",
       "        vertical-align: top;\n",
       "    }\n",
       "\n",
       "    .dataframe thead th {\n",
       "        text-align: right;\n",
       "    }\n",
       "</style>\n",
       "<table border=\"1\" class=\"dataframe\">\n",
       "  <thead>\n",
       "    <tr style=\"text-align: right;\">\n",
       "      <th></th>\n",
       "      <th>installation_id</th>\n",
       "    </tr>\n",
       "    <tr>\n",
       "      <th>Acc_group</th>\n",
       "      <th></th>\n",
       "    </tr>\n",
       "  </thead>\n",
       "  <tbody>\n",
       "    <tr>\n",
       "      <th>0</th>\n",
       "      <td>8947</td>\n",
       "    </tr>\n",
       "    <tr>\n",
       "      <th>1</th>\n",
       "      <td>190</td>\n",
       "    </tr>\n",
       "    <tr>\n",
       "      <th>2</th>\n",
       "      <td>208</td>\n",
       "    </tr>\n",
       "    <tr>\n",
       "      <th>3</th>\n",
       "      <td>1037</td>\n",
       "    </tr>\n",
       "  </tbody>\n",
       "</table>\n",
       "</div>"
      ],
      "text/plain": [
       "           installation_id\n",
       "Acc_group                 \n",
       "0                     8947\n",
       "1                      190\n",
       "2                      208\n",
       "3                     1037"
      ]
     },
     "execution_count": 6,
     "metadata": {},
     "output_type": "execute_result"
    }
   ],
   "source": [
    "data.groupby('Acc_group').agg({'installation_id': 'count'})"
   ]
  },
  {
   "cell_type": "code",
   "execution_count": 7,
   "metadata": {},
   "outputs": [],
   "source": [
    "LABELS = ['installation_id', 'game_session', 'time_start', 'time_end', 'Acc_group', 'Acc_group_avg', 'Correct', 'Incorrect', 'Acc']\n",
    "FEATURES = data.drop(LABELS,axis = 1).keys()"
   ]
  },
  {
   "cell_type": "code",
   "execution_count": 8,
   "metadata": {},
   "outputs": [],
   "source": [
    "X = data[FEATURES].values\n",
    "y = data['Acc_group'].values\n",
    "X_train, X_test, y_train, y_test = train_test_split(X, y, train_size=0.8)\n",
    "X_train_2, X_valid, y_train_2, y_valid = train_test_split(X_train, y_train, train_size=0.75)"
   ]
  },
  {
   "cell_type": "code",
   "execution_count": 9,
   "metadata": {},
   "outputs": [],
   "source": [
    "def cv_train(model, X_train, y_train, X_test, y_test):\n",
    "    model.fit(X_train, y_train)\n",
    "    scoring = model.cv_results_\n",
    "    for mean_score, std, params in zip(scoring['mean_test_score'],scoring['std_test_score'],scoring['params']):\n",
    "        print(\"{:0.3f} (+/-{:0.03f}) for {}\".format(\n",
    "                mean_score, std * 2, params))  \n",
    "    print('\\nBest parameters:', model.best_params_)\n",
    "    print(classification_report(y_test, model.predict(X_test).astype(int)))"
   ]
  },
  {
   "cell_type": "code",
   "execution_count": 10,
   "metadata": {},
   "outputs": [],
   "source": [
    "import random\n",
    "\n",
    "NUM_SAMPLES = 10\n",
    "NUM_TRAIN_SETS = 10\n",
    "\n",
    "def subsample(X, y, sample_size):\n",
    "    xy_tuples = list(zip(X, y))\n",
    "    xy_sample = [random.choice(xy_tuples) for _ in range(sample_size)]\n",
    "    X_sample, y_sample = zip(*xy_sample)\n",
    "    return X_sample, y_sample\n",
    "\n",
    "def error(clf, X, y):\n",
    "    \"Calculate error as 1-accuracy\"\n",
    "    return 1-clf.score(X,y)\n",
    "\n",
    "def bootstrap_error(clf, X_train, y_train, X_test, y_test, sample_size, num_samples=NUM_SAMPLES):\n",
    "    train_errors = []\n",
    "    test_errors = []\n",
    "    for _ in range(num_samples):\n",
    "        X_sample, y_sample = subsample(X_train, y_train, sample_size)\n",
    "        clf.fit(X_sample, y_sample)\n",
    "        train_errors.append(error(clf,X_sample,y_sample))\n",
    "        test_errors.append(error(clf,X_test,y_test))\n",
    "    train_error = sum(train_errors)/len(train_errors)\n",
    "    test_error = sum(test_errors)/len(test_errors)\n",
    "    return train_error, test_error"
   ]
  },
  {
   "cell_type": "markdown",
   "metadata": {},
   "source": [
    "Decision tree classifier"
   ]
  },
  {
   "cell_type": "code",
   "execution_count": 11,
   "metadata": {},
   "outputs": [
    {
     "name": "stdout",
     "output_type": "stream",
     "text": [
      "0.862 (+/-0.000) for {'criterion': 'entropy', 'max_depth': 1, 'splitter': 'best'}\n",
      "0.862 (+/-0.000) for {'criterion': 'entropy', 'max_depth': 1, 'splitter': 'random'}\n",
      "0.862 (+/-0.000) for {'criterion': 'entropy', 'max_depth': 2, 'splitter': 'best'}\n",
      "0.867 (+/-0.007) for {'criterion': 'entropy', 'max_depth': 2, 'splitter': 'random'}\n",
      "0.866 (+/-0.004) for {'criterion': 'entropy', 'max_depth': 3, 'splitter': 'best'}\n",
      "0.869 (+/-0.007) for {'criterion': 'entropy', 'max_depth': 3, 'splitter': 'random'}\n",
      "0.870 (+/-0.004) for {'criterion': 'entropy', 'max_depth': 4, 'splitter': 'best'}\n",
      "0.869 (+/-0.007) for {'criterion': 'entropy', 'max_depth': 4, 'splitter': 'random'}\n",
      "0.873 (+/-0.008) for {'criterion': 'entropy', 'max_depth': 5, 'splitter': 'best'}\n",
      "0.873 (+/-0.012) for {'criterion': 'entropy', 'max_depth': 5, 'splitter': 'random'}\n",
      "0.873 (+/-0.005) for {'criterion': 'entropy', 'max_depth': 6, 'splitter': 'best'}\n",
      "0.873 (+/-0.010) for {'criterion': 'entropy', 'max_depth': 6, 'splitter': 'random'}\n",
      "0.872 (+/-0.006) for {'criterion': 'entropy', 'max_depth': 7, 'splitter': 'best'}\n",
      "0.872 (+/-0.012) for {'criterion': 'entropy', 'max_depth': 7, 'splitter': 'random'}\n",
      "0.870 (+/-0.008) for {'criterion': 'entropy', 'max_depth': 8, 'splitter': 'best'}\n",
      "0.872 (+/-0.008) for {'criterion': 'entropy', 'max_depth': 8, 'splitter': 'random'}\n",
      "0.869 (+/-0.008) for {'criterion': 'entropy', 'max_depth': 9, 'splitter': 'best'}\n",
      "0.869 (+/-0.010) for {'criterion': 'entropy', 'max_depth': 9, 'splitter': 'random'}\n",
      "0.862 (+/-0.000) for {'criterion': 'gini', 'max_depth': 1, 'splitter': 'best'}\n",
      "0.862 (+/-0.000) for {'criterion': 'gini', 'max_depth': 1, 'splitter': 'random'}\n",
      "0.866 (+/-0.006) for {'criterion': 'gini', 'max_depth': 2, 'splitter': 'best'}\n",
      "0.869 (+/-0.006) for {'criterion': 'gini', 'max_depth': 2, 'splitter': 'random'}\n",
      "0.870 (+/-0.008) for {'criterion': 'gini', 'max_depth': 3, 'splitter': 'best'}\n",
      "0.869 (+/-0.007) for {'criterion': 'gini', 'max_depth': 3, 'splitter': 'random'}\n",
      "0.875 (+/-0.007) for {'criterion': 'gini', 'max_depth': 4, 'splitter': 'best'}\n",
      "0.870 (+/-0.007) for {'criterion': 'gini', 'max_depth': 4, 'splitter': 'random'}\n",
      "0.874 (+/-0.010) for {'criterion': 'gini', 'max_depth': 5, 'splitter': 'best'}\n",
      "0.872 (+/-0.010) for {'criterion': 'gini', 'max_depth': 5, 'splitter': 'random'}\n",
      "0.877 (+/-0.006) for {'criterion': 'gini', 'max_depth': 6, 'splitter': 'best'}\n",
      "0.872 (+/-0.011) for {'criterion': 'gini', 'max_depth': 6, 'splitter': 'random'}\n",
      "0.873 (+/-0.003) for {'criterion': 'gini', 'max_depth': 7, 'splitter': 'best'}\n",
      "0.872 (+/-0.010) for {'criterion': 'gini', 'max_depth': 7, 'splitter': 'random'}\n",
      "0.873 (+/-0.011) for {'criterion': 'gini', 'max_depth': 8, 'splitter': 'best'}\n",
      "0.872 (+/-0.008) for {'criterion': 'gini', 'max_depth': 8, 'splitter': 'random'}\n",
      "0.871 (+/-0.014) for {'criterion': 'gini', 'max_depth': 9, 'splitter': 'best'}\n",
      "0.875 (+/-0.011) for {'criterion': 'gini', 'max_depth': 9, 'splitter': 'random'}\n",
      "\n",
      "Best parameters: {'criterion': 'gini', 'max_depth': 6, 'splitter': 'best'}\n",
      "              precision    recall  f1-score   support\n",
      "\n",
      "           0       0.90      0.98      0.94      1786\n",
      "           1       0.11      0.03      0.05        35\n",
      "           2       0.42      0.14      0.20        37\n",
      "           3       0.73      0.34      0.46       219\n",
      "\n",
      "    accuracy                           0.88      2077\n",
      "   macro avg       0.54      0.37      0.41      2077\n",
      "weighted avg       0.86      0.88      0.86      2077\n",
      "\n"
     ]
    }
   ],
   "source": [
    "param_grid = [\n",
    "    {'max_depth': list(range(1, 10)),\n",
    "     'criterion': ['entropy', 'gini'],\n",
    "     'splitter': ['best', 'random']}\n",
    "]\n",
    "tree = GridSearchCV(DecisionTreeClassifier(), param_grid)\n",
    "cv_train(tree, X_train, y_train, X_test, y_test)"
   ]
  },
  {
   "cell_type": "code",
   "execution_count": 12,
   "metadata": {},
   "outputs": [
    {
     "data": {
      "text/plain": [
       "[('Acc_avg', 0.48641873692032794),\n",
       " ('title_Leaf Leader', 0.1440102851053125),\n",
       " ('Game', 0.11721294689914545),\n",
       " ('2000_sum', 0.04641608924817329),\n",
       " ('4100', 0.04517841673630899),\n",
       " ('title_Chow Time', 0.028848799232817406),\n",
       " ('4010_sum', 0.021263195069279737),\n",
       " ('2060_sum', 0.019789718660889778),\n",
       " ('Assessment', 0.016267620388903604),\n",
       " ('4110_sum', 0.01543017870540254),\n",
       " ('4021_sum', 0.013372294381900638),\n",
       " ('4090_sum', 0.011230413489696224),\n",
       " ('4022_sum', 0.008184600324725996),\n",
       " ('4045_sum', 0.006273875339170231),\n",
       " ('event_count', 0.005572947874537662),\n",
       " ('3110_sum', 0.005515494803666139),\n",
       " ('4025_sum', 0.005377607433574487),\n",
       " ('3010_sum', 0.0036367793861673595)]"
      ]
     },
     "execution_count": 12,
     "metadata": {},
     "output_type": "execute_result"
    }
   ],
   "source": [
    "best_tree = DecisionTreeClassifier(max_depth=5)\n",
    "best_tree.fit(X_train, y_train)\n",
    "export_graphviz(best_tree, out_file = 'tree.dot', feature_names = FEATURES, class_names=['0', '1', '2', '3'], filled = True)\n",
    "important_feature = []\n",
    "for idx in range(len(best_tree.feature_importances_)):\n",
    "    if best_tree.feature_importances_[idx] != 0:\n",
    "        important_feature.append((FEATURES[idx], best_tree.feature_importances_[idx]))\n",
    "sorted(important_feature, key=lambda x: x[1], reverse=True)"
   ]
  },
  {
   "cell_type": "code",
   "execution_count": 13,
   "metadata": {},
   "outputs": [
    {
     "data": {
      "text/plain": [
       "Text(0.5, 1.0, 'count of each accuray group for each title')"
      ]
     },
     "execution_count": 13,
     "metadata": {},
     "output_type": "execute_result"
    },
    {
     "data": {
      "image/png": "[encoded data removed]",
      "text/plain": [
       "<Figure size 432x288 with 1 Axes>"
      ]
     },
     "metadata": {
      "needs_background": "light"
     },
     "output_type": "display_data"
    }
   ],
   "source": [
    "count_by_title = dataset.groupby(['title', 'Acc_group'])['game_session'].count().unstack('Acc_group')\n",
    "# print(count_by_title)\n",
    "ax = count_by_title.plot.barh(stacked=True)\n",
    "ax.legend(ncol=4, bbox_to_anchor=(0, 1), loc='lower left')\n",
    "plt.title('count of each accuray group for each title', pad = 30)"
   ]
  },
  {
   "cell_type": "markdown",
   "metadata": {},
   "source": [
    "AdaBoost Classifier"
   ]
  },
  {
   "cell_type": "code",
   "execution_count": 14,
   "metadata": {},
   "outputs": [
    {
     "data": {
      "image/png": "[encoded data removed]",
      "text/plain": [
       "<Figure size 432x288 with 1 Axes>"
      ]
     },
     "metadata": {
      "needs_background": "light"
     },
     "output_type": "display_data"
    }
   ],
   "source": [
    "complexities = []\n",
    "train_errors = []\n",
    "test_errors = []\n",
    "for n in list(range(50, 601, 50)):\n",
    "    clf = AdaBoostClassifier(learning_rate=0.1, n_estimators=n)\n",
    "    train_error, test_error = bootstrap_error(clf, X_train_2, y_train_2, X_valid, y_valid, len(y_train_2))\n",
    "    complexities.append(n)\n",
    "    train_errors.append(train_error)\n",
    "    test_errors.append(test_error)\n",
    "plt.plot(complexities, train_errors, c='b', label='Training error')\n",
    "plt.plot(complexities, test_errors, c='r', label='Generalisation error')\n",
    "plt.ylabel('Error')\n",
    "plt.xlabel('Model complexity')\n",
    "plt.title('AdaBoost Classifier')\n",
    "plt.legend()\n",
    "plt.show()"
   ]
  },
  {
   "cell_type": "code",
   "execution_count": 25,
   "metadata": {},
   "outputs": [
    {
     "name": "stdout",
     "output_type": "stream",
     "text": [
      "0.862 (+/-0.000) for {'learning_rate': 0.001}\n",
      "0.862 (+/-0.000) for {'learning_rate': 0.01}\n",
      "0.867 (+/-0.005) for {'learning_rate': 0.1}\n",
      "0.787 (+/-0.017) for {'learning_rate': 1}\n",
      "\n",
      "Best parameters: {'learning_rate': 0.1}\n",
      "              precision    recall  f1-score   support\n",
      "\n",
      "           0       0.86      1.00      0.93      1786\n",
      "           1       0.00      0.00      0.00        35\n",
      "           2       1.00      0.03      0.05        37\n",
      "           3       0.88      0.03      0.06       219\n",
      "\n",
      "    accuracy                           0.86      2077\n",
      "   macro avg       0.68      0.26      0.26      2077\n",
      "weighted avg       0.85      0.86      0.80      2077\n",
      "\n"
     ]
    },
    {
     "name": "stderr",
     "output_type": "stream",
     "text": [
      "/opt/conda/lib/python3.7/site-packages/sklearn/metrics/_classification.py:1272: UndefinedMetricWarning: Precision and F-score are ill-defined and being set to 0.0 in labels with no predicted samples. Use `zero_division` parameter to control this behavior.\n",
      "  _warn_prf(average, modifier, msg_start, len(result))\n"
     ]
    }
   ],
   "source": [
    "param_grid = [{'learning_rate': [0.001, 0.01, 0.1, 1]}]\n",
    "ada = GridSearchCV(AdaBoostClassifier(n_estimators=300), param_grid)\n",
    "cv_train(ada, X_train, y_train, X_test, y_test)"
   ]
  },
  {
   "cell_type": "code",
   "execution_count": 26,
   "metadata": {},
   "outputs": [
    {
     "data": {
      "text/plain": [
       "[('Acc_avg', 0.10666666666666667),\n",
       " ('Incorrect_total', 0.056666666666666664),\n",
       " ('4220_sum', 0.043333333333333335),\n",
       " ('Activity', 0.04),\n",
       " ('Assessment', 0.04),\n",
       " ('Acc_total', 0.04),\n",
       " ('2080', 0.03666666666666667),\n",
       " ('2010_sum', 0.03666666666666667),\n",
       " ('4025_sum', 0.03333333333333333),\n",
       " ('MAGMAPEAK', 0.03),\n",
       " ('3120', 0.03),\n",
       " ('2020_sum', 0.03),\n",
       " ('2040_sum', 0.02666666666666667),\n",
       " ('event_count', 0.023333333333333334),\n",
       " ('CRYSTALCAVES', 0.023333333333333334),\n",
       " ('3110', 0.023333333333333334),\n",
       " ('4010_sum', 0.023333333333333334),\n",
       " ('4035_sum', 0.023333333333333334),\n",
       " ('duration', 0.02),\n",
       " ('2060', 0.02),\n",
       " ('title_Dino Dive', 0.02),\n",
       " ('4021', 0.016666666666666666),\n",
       " ('4021_sum', 0.016666666666666666),\n",
       " ('3020_sum', 0.016666666666666666),\n",
       " ('hour', 0.013333333333333334),\n",
       " ('4025', 0.013333333333333334),\n",
       " ('4022', 0.013333333333333334),\n",
       " ('title_All Star Sorting', 0.013333333333333334),\n",
       " ('title_Bottle Filler (Activity)', 0.013333333333333334),\n",
       " ('TREETOPCITY', 0.01),\n",
       " ('4040', 0.01),\n",
       " ('4031', 0.01),\n",
       " ('2080_sum', 0.01),\n",
       " ('title_Cauldron Filler (Assessment)', 0.01),\n",
       " ('title_Dino Drink', 0.01),\n",
       " ('title_Leaf Leader', 0.01),\n",
       " ('4020', 0.006666666666666667),\n",
       " ('4030', 0.006666666666666667),\n",
       " ('4010', 0.006666666666666667),\n",
       " ('4045', 0.006666666666666667),\n",
       " ('4235_sum', 0.006666666666666667),\n",
       " ('title_Bug Measurer (Activity)', 0.006666666666666667),\n",
       " ('title_Watering Hole (Activity)', 0.006666666666666667),\n",
       " ('2020', 0.0033333333333333335),\n",
       " ('4070', 0.0033333333333333335),\n",
       " ('4100', 0.0033333333333333335),\n",
       " ('4080', 0.0033333333333333335),\n",
       " ('2030_sum', 0.0033333333333333335),\n",
       " ('4070_sum', 0.0033333333333333335),\n",
       " ('4100_sum', 0.0033333333333333335),\n",
       " ('2060_sum', 0.0033333333333333335),\n",
       " ('5010_sum', 0.0033333333333333335),\n",
       " ('4230_sum', 0.0033333333333333335),\n",
       " ('4050_sum', 0.0033333333333333335),\n",
       " ('world_MAGMAPEAK', 0.0033333333333333335)]"
      ]
     },
     "execution_count": 26,
     "metadata": {},
     "output_type": "execute_result"
    }
   ],
   "source": [
    "best_ada = AdaBoostClassifier(learning_rate=0.1, n_estimators=300)\n",
    "best_ada.fit(X_train, y_train)\n",
    "important_feature = []\n",
    "for idx in range(len(best_ada.feature_importances_)):\n",
    "    if best_ada.feature_importances_[idx] != 0:\n",
    "        important_feature.append((FEATURES[idx], best_ada.feature_importances_[idx]))\n",
    "sorted(important_feature, key=lambda x: x[1], reverse=True)"
   ]
  },
  {
   "cell_type": "markdown",
   "metadata": {},
   "source": [
    "Random Forest Classifier"
   ]
  },
  {
   "cell_type": "code",
   "execution_count": 17,
   "metadata": {},
   "outputs": [
    {
     "data": {
      "image/png": "[encoded data removed]",
      "text/plain": [
       "<Figure size 432x288 with 1 Axes>"
      ]
     },
     "metadata": {
      "needs_background": "light"
     },
     "output_type": "display_data"
    }
   ],
   "source": [
    "complexities = []\n",
    "train_errors = []\n",
    "test_errors = []\n",
    "for n in list(range(1, 50)):\n",
    "    clf = RandomForestClassifier(n_estimators=n)\n",
    "    train_error, test_error = bootstrap_error(clf, X_train_2, y_train_2, X_valid, y_valid, len(y_train_2))\n",
    "    complexities.append(n)\n",
    "    train_errors.append(train_error)\n",
    "    test_errors.append(test_error)\n",
    "plt.plot(complexities, train_errors, c='b', label='Training error')\n",
    "plt.plot(complexities, test_errors, c='r', label='Generalisation error')\n",
    "plt.ylabel('Error')\n",
    "plt.xlabel('Model complexity')\n",
    "plt.title('Random Forest Classifier')\n",
    "plt.legend()\n",
    "plt.show()"
   ]
  },
  {
   "cell_type": "code",
   "execution_count": 18,
   "metadata": {},
   "outputs": [
    {
     "name": "stdout",
     "output_type": "stream",
     "text": [
      "0.870 (+/-0.009) for {'class_weight': 'balanced', 'criterion': 'entropy', 'max_features': 'sqrt'}\n",
      "0.869 (+/-0.004) for {'class_weight': 'balanced', 'criterion': 'entropy', 'max_features': 'log2'}\n",
      "0.866 (+/-0.004) for {'class_weight': 'balanced', 'criterion': 'gini', 'max_features': 'sqrt'}\n",
      "0.868 (+/-0.006) for {'class_weight': 'balanced', 'criterion': 'gini', 'max_features': 'log2'}\n",
      "0.870 (+/-0.008) for {'class_weight': 'balanced_subsample', 'criterion': 'entropy', 'max_features': 'sqrt'}\n",
      "0.871 (+/-0.005) for {'class_weight': 'balanced_subsample', 'criterion': 'entropy', 'max_features': 'log2'}\n",
      "0.870 (+/-0.004) for {'class_weight': 'balanced_subsample', 'criterion': 'gini', 'max_features': 'sqrt'}\n",
      "0.868 (+/-0.007) for {'class_weight': 'balanced_subsample', 'criterion': 'gini', 'max_features': 'log2'}\n",
      "0.876 (+/-0.008) for {'class_weight': None, 'criterion': 'entropy', 'max_features': 'sqrt'}\n",
      "0.876 (+/-0.005) for {'class_weight': None, 'criterion': 'entropy', 'max_features': 'log2'}\n",
      "0.878 (+/-0.011) for {'class_weight': None, 'criterion': 'gini', 'max_features': 'sqrt'}\n",
      "0.875 (+/-0.008) for {'class_weight': None, 'criterion': 'gini', 'max_features': 'log2'}\n",
      "\n",
      "Best parameters: {'class_weight': None, 'criterion': 'gini', 'max_features': 'sqrt'}\n",
      "              precision    recall  f1-score   support\n",
      "\n",
      "           0       0.90      0.98      0.94      1786\n",
      "           1       0.00      0.00      0.00        35\n",
      "           2       0.46      0.16      0.24        37\n",
      "           3       0.62      0.32      0.42       219\n",
      "\n",
      "    accuracy                           0.88      2077\n",
      "   macro avg       0.50      0.37      0.40      2077\n",
      "weighted avg       0.85      0.88      0.86      2077\n",
      "\n"
     ]
    }
   ],
   "source": [
    "param_grid = [\n",
    "    {'criterion': ['entropy', 'gini'],\n",
    "     'max_features': ['sqrt', 'log2'],\n",
    "     'class_weight': ['balanced', 'balanced_subsample', None]}\n",
    "]\n",
    "svc = GridSearchCV(RandomForestClassifier(n_estimators=10), param_grid)\n",
    "cv_train(svc, X_train, y_train, X_test, y_test)"
   ]
  },
  {
   "cell_type": "code",
   "execution_count": 19,
   "metadata": {},
   "outputs": [
    {
     "data": {
      "text/plain": [
       "RandomForestClassifier(bootstrap=True, ccp_alpha=0.0, class_weight=None,\n",
       "                       criterion='gini', max_depth=None, max_features='auto',\n",
       "                       max_leaf_nodes=None, max_samples=None,\n",
       "                       min_impurity_decrease=0.0, min_impurity_split=None,\n",
       "                       min_samples_leaf=1, min_samples_split=2,\n",
       "                       min_weight_fraction_leaf=0.0, n_estimators=10,\n",
       "                       n_jobs=None, oob_score=False, random_state=None,\n",
       "                       verbose=0, warm_start=False)"
      ]
     },
     "execution_count": 19,
     "metadata": {},
     "output_type": "execute_result"
    }
   ],
   "source": [
    "best_forest = RandomForestClassifier(n_estimators=10)\n",
    "best_forest.fit(X_train, y_train)"
   ]
  },
  {
   "cell_type": "markdown",
   "metadata": {},
   "source": [
    "K Neighbors Classifier"
   ]
  },
  {
   "cell_type": "code",
   "execution_count": 20,
   "metadata": {},
   "outputs": [
    {
     "data": {
      "image/png": "[encoded data removed]",
      "text/plain": [
       "<Figure size 432x288 with 1 Axes>"
      ]
     },
     "metadata": {
      "needs_background": "light"
     },
     "output_type": "display_data"
    }
   ],
   "source": [
    "complexities = []\n",
    "train_errors = []\n",
    "test_errors = []\n",
    "for n in list(range(1, 50)):\n",
    "    clf = KNeighborsClassifier(n_neighbors=n)\n",
    "    train_error, test_error = bootstrap_error(clf, X_train_2, y_train_2, X_valid, y_valid, len(y_train_2))\n",
    "    complexities.append(n)\n",
    "    train_errors.append(train_error)\n",
    "    test_errors.append(test_error)\n",
    "plt.plot(complexities, train_errors, c='b', label='Training error')\n",
    "plt.plot(complexities, test_errors, c='r', label='Generalisation error')\n",
    "plt.ylabel('Error')\n",
    "plt.xlabel('Model complexity')\n",
    "plt.title('K Neighbours Classifier')\n",
    "plt.legend()\n",
    "plt.show()"
   ]
  },
  {
   "cell_type": "code",
   "execution_count": 21,
   "metadata": {},
   "outputs": [
    {
     "name": "stdout",
     "output_type": "stream",
     "text": [
      "0.861 (+/-0.001) for {'leaf_size': 10, 'p': 1}\n",
      "0.862 (+/-0.001) for {'leaf_size': 10, 'p': 2}\n",
      "0.861 (+/-0.001) for {'leaf_size': 20, 'p': 1}\n",
      "0.862 (+/-0.001) for {'leaf_size': 20, 'p': 2}\n",
      "0.861 (+/-0.001) for {'leaf_size': 30, 'p': 1}\n",
      "0.862 (+/-0.001) for {'leaf_size': 30, 'p': 2}\n",
      "0.861 (+/-0.001) for {'leaf_size': 40, 'p': 1}\n",
      "0.862 (+/-0.001) for {'leaf_size': 40, 'p': 2}\n",
      "0.861 (+/-0.001) for {'leaf_size': 50, 'p': 1}\n",
      "0.862 (+/-0.001) for {'leaf_size': 50, 'p': 2}\n",
      "\n",
      "Best parameters: {'leaf_size': 10, 'p': 2}\n",
      "              precision    recall  f1-score   support\n",
      "\n",
      "           0       0.86      1.00      0.92      1786\n",
      "           1       0.00      0.00      0.00        35\n",
      "           2       0.00      0.00      0.00        37\n",
      "           3       0.00      0.00      0.00       219\n",
      "\n",
      "    accuracy                           0.86      2077\n",
      "   macro avg       0.21      0.25      0.23      2077\n",
      "weighted avg       0.74      0.86      0.80      2077\n",
      "\n"
     ]
    },
    {
     "name": "stderr",
     "output_type": "stream",
     "text": [
      "/opt/conda/lib/python3.7/site-packages/sklearn/metrics/_classification.py:1272: UndefinedMetricWarning: Precision and F-score are ill-defined and being set to 0.0 in labels with no predicted samples. Use `zero_division` parameter to control this behavior.\n",
      "  _warn_prf(average, modifier, msg_start, len(result))\n"
     ]
    }
   ],
   "source": [
    "param_grid = [\n",
    "    {'leaf_size': [10, 20, 30, 40, 50],\n",
    "     'p': [1, 2]}\n",
    "]\n",
    "knn = GridSearchCV(KNeighborsClassifier(n_neighbors=10), param_grid)\n",
    "cv_train(knn, X_train, y_train, X_test, y_test)"
   ]
  },
  {
   "cell_type": "code",
   "execution_count": 22,
   "metadata": {},
   "outputs": [
    {
     "data": {
      "text/plain": [
       "KNeighborsClassifier(algorithm='auto', leaf_size=10, metric='minkowski',\n",
       "                     metric_params=None, n_jobs=None, n_neighbors=10, p=1,\n",
       "                     weights='uniform')"
      ]
     },
     "execution_count": 22,
     "metadata": {},
     "output_type": "execute_result"
    }
   ],
   "source": [
    "best_knn = KNeighborsClassifier(n_neighbors=10, leaf_size=10, p=1)\n",
    "best_knn.fit(X_train, y_train)"
   ]
  },
  {
   "cell_type": "markdown",
   "metadata": {},
   "source": [
    "Compare"
   ]
  },
  {
   "cell_type": "code",
   "execution_count": 23,
   "metadata": {},
   "outputs": [],
   "source": [
    "def mcnemar(x, y):\n",
    "    n1 = np.sum(x < y)w\n",
    "    n2 = np.sum(x > y)\n",
    "    stat = (np.abs(n1-n2)-1)**2 / (n1+n2)\n",
    "    df = 1\n",
    "    pval = chi2.sf(stat,1)\n",
    "    return stat, pval"
   ]
  },
  {
   "cell_type": "code",
   "execution_count": 27,
   "metadata": {},
   "outputs": [],
   "source": [
    "predict_tree = np.array([int(p==t) for p,t in zip(best_tree.predict(X_test), y_test)])\n",
    "predict_ada = np.array([int(p==t) for p,t in zip(best_ada.predict(X_test), y_test)])\n",
    "predict_forest = np.array([int(p==t) for p,t in zip(best_forest.predict(X_test), y_test)])\n",
    "predict_knn = np.array([int(p==t) for p,t in zip(best_knn.predict(X_test), y_test)])"
   ]
  },
  {
   "cell_type": "code",
   "execution_count": 30,
   "metadata": {},
   "outputs": [
    {
     "name": "stderr",
     "output_type": "stream",
     "text": [
      "/opt/conda/lib/python3.7/site-packages/ipykernel_launcher.py:4: RuntimeWarning: divide by zero encountered in long_scalars\n",
      "  after removing the cwd from sys.path.\n"
     ]
    },
    {
     "data": {
      "text/plain": [
       "(array([[0.00000000e+00, 6.34920635e+00, 4.70588235e-02, 1.00895522e+01],\n",
       "        [1.17433823e-02, 0.00000000e+00, 5.29000000e+00, 2.50000000e+00],\n",
       "        [8.28262541e-01, 2.14482200e-02, 0.00000000e+00, 8.08653846e+00],\n",
       "        [1.49112334e-03, 1.13846298e-01, 4.45952577e-03, 0.00000000e+00]]),\n",
       " array([[0.        , 0.01174338, 0.82826254, 0.00149112],\n",
       "        [0.        , 0.        , 0.02144822, 0.1138463 ],\n",
       "        [0.        , 0.        , 0.        , 0.00445953],\n",
       "        [0.        , 0.        , 0.        , 0.        ]]))"
      ]
     },
     "execution_count": 30,
     "metadata": {},
     "output_type": "execute_result"
    }
   ],
   "source": [
    "stats = np.zeros((4, 4))\n",
    "pvals = np.zeros((4, 4))\n",
    "predicts = [predict_tree, predict_ada, predict_forest, predict_knn]\n",
    "for i in range(4):\n",
    "    for j in range(i, 4):\n",
    "        stat, pval = mcnemar(predicts[i], predicts[j])\n",
    "        stats[i][j] = stat\n",
    "        pvals[i][j] = pval\n",
    "score, pvals"
   ]
  }
 ],
 "metadata": {
  "kernelspec": {
   "display_name": "Python 3",
   "language": "python",
   "name": "python3"
  },
  "language_info": {
   "codemirror_mode": {
    "name": "ipython",
    "version": 3
   },
   "file_extension": ".py",
   "mimetype": "text/x-python",
   "name": "python",
   "nbconvert_exporter": "python",
   "pygments_lexer": "ipython3",
   "version": "3.7.6"
  }
 },
 "nbformat": 4,
 "nbformat_minor": 4
}
